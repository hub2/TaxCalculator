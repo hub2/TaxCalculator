{
 "cells": [
  {
   "cell_type": "code",
   "execution_count": null,
   "metadata": {},
   "outputs": [],
   "source": [
    "from datetime import datetime"
   ]
  },
  {
   "cell_type": "code",
   "execution_count": null,
   "metadata": {},
   "outputs": [],
   "source": [
    "lines = open(\"Transactions.csv\", \"r\").readlines()\n",
    "exchange_rates = open(\"exchange_rates.csv\", \"rb\").read().split(b\"\\n\\n\")[0].split(b\"\\n\")\n",
    "\n",
    "exchange_rates = [exchange_rates[0]] + exchange_rates[2:]\n",
    "exchange_rates = [line.decode(\"utf8\", \"ignore\") for line in exchange_rates]\n",
    "\n",
    "currency_table = exchange_rates[0].split(\";\")[1:-3]\n",
    "\n",
    "conversion_dict = {}\n",
    "\n",
    "for idx, currency in enumerate(currency_table):\n",
    "    currency = currency[-3:]\n",
    "    conversion_dict[currency] = {}\n",
    "    \n",
    "    for line in exchange_rates[1:-5]:\n",
    "        splitted = line.strip().split(\";\")\n",
    "        conversion_dict[currency][splitted[0]] = float(splitted[idx+1].replace(\",\", \".\"))\n",
    "\n",
    "\n",
    "columns = list(lines[0].strip().split(\",\"))\n",
    "columns[6] = \"Waluta lokalna\"\n",
    "columns[8] = \"Waluta wartości lokalnej\"\n",
    "\n",
    "columns[10] = \"Waluta rachunku\"\n",
    "columns[13] = \"Waluta wymieniana\"\n",
    "columns[15] = \"Waluta opłaty\""
   ]
  },
  {
   "cell_type": "code",
   "execution_count": 26,
   "metadata": {},
   "outputs": [],
   "source": [
    "class Stock:\n",
    "    def __init__(self, name, ISIN, datet, price, currency, transaction_id):\n",
    "        self.name = name\n",
    "        self.ISIN = ISIN\n",
    "        self.datet = datet\n",
    "        self.price = price\n",
    "        self.currency = currency\n",
    "        self.transaction_id = transaction_id\n",
    "    \n",
    "    def __repr__(self):\n",
    "        return str(self)\n",
    "    \n",
    "    def __str__(self):\n",
    "        return \" \" + self.name + \" \" + str(self.price) + self.currency + \" \"\n",
    "        \n",
    "class StockManager:\n",
    "    def __init__(self, tax=0.19):\n",
    "        self.vault = {}\n",
    "        self.taxable_income_reduction = 0\n",
    "        self.total_income = 0\n",
    "        self.tax = tax\n",
    "        \n",
    "    def buy(self, ISIN, name, datet, amount, price, currency, transaction_id):\n",
    "        if ISIN not in self.vault:\n",
    "            self.vault[ISIN] = []\n",
    "        \n",
    "        for i in range(int(amount)):\n",
    "            self.vault[ISIN].append(Stock(name, ISIN, datet, price, currency, transaction_id))\n",
    "        \n",
    "        self.vault[ISIN] = sorted(self.vault[ISIN], key=lambda x: (x.datet))\n",
    "    \n",
    "    def sell(self, ISIN, name, datet, amount, price, currency, transaction_id):\n",
    "        gross = 0\n",
    "            \n",
    "        for i in range(abs(amount)):\n",
    "            s = self.pop(ISIN)\n",
    "            \n",
    "            exchange_rate_date_of_buy = 1.0\n",
    "            exchange_rate_date_of_sell = 1.0\n",
    "            if currency != \"PLN\":\n",
    "                exchange_rate_date_of_buy = conversion_dict[currency][s.datet.strftime(\"%Y%m%d\")]\n",
    "                exchange_rate_date_of_sell = conversion_dict[currency][datet.strftime(\"%Y%m%d\")]\n",
    "                \n",
    "            # calculate tax\n",
    "            if s.price < price:\n",
    "                difference_in_price = price*exchange_rate_date_of_sell - s.price*exchange_rate_date_of_buy\n",
    "                gross += difference_in_price\n",
    "        \n",
    "        \n",
    "        self.total_income += gross\n",
    "    \n",
    "    @property\n",
    "    def total_tax(self):\n",
    "        return self.taxable_income * self.tax\n",
    "    a\n",
    "    @property\n",
    "    def taxable_income(self):\n",
    "        return self.total_income - self.taxable_income_reduction\n",
    "\n",
    "    def deduct_fee_from_tax(self, fee, datet, currency):\n",
    "        exchange_rate_date_of_transaction = conversion_dict[currency][datet.strftime(\"%Y%m%d\")]\n",
    "        \n",
    "        self.taxable_income_reduction += abs(fee) * exchange_rate_date_of_transaction\n",
    "        \n",
    "    def pop(self, ISIN):\n",
    "        return self.vault[ISIN].pop(0)\n",
    "    \n",
    "    def __repr__(self):\n",
    "        return(str(self))\n",
    "    \n",
    "    def __str__(self):\n",
    "        out = \"\"\n",
    "        for k, v in self.vault.items():\n",
    "            out += str(k) + \" \" + str(v) + \"\\n\"\n",
    "        return out\n",
    "\n",
    "    "
   ]
  },
  {
   "cell_type": "code",
   "execution_count": 27,
   "metadata": {},
   "outputs": [],
   "source": [
    "sv = StockManager()\n",
    "\n",
    "for line in lines[1:][::-1]:\n",
    "    splitted = line.strip().split(\",\")\n",
    "    date, time, product, ISIN, market, amount, currency_local, price, currency_local_2, local_price, value, currency_wallet, exchange_rate, currency_exchange, fee, currency_fee, total, identifier = splitted\n",
    "    \n",
    "    # data type classification\n",
    "    datet = datetime.strptime(date + \" \" + time, \"%d-%m-%Y %H:%M\")\n",
    "    amount = int(amount)\n",
    "    price = float(price)\n",
    "    fee = float(fee)\n",
    "    sv.deduct_fee_from_tax(fee, datet, currency_fee)\n",
    "    if amount > 0:\n",
    "        sv.buy(ISIN, product, datet, amount, price, currency_local, identifier)\n",
    "    if amount < 0:\n",
    "        sv.sell(ISIN, product, datet, amount, price, currency_local, identifier)\n"
   ]
  },
  {
   "cell_type": "code",
   "execution_count": 28,
   "metadata": {},
   "outputs": [
    {
     "name": "stdout",
     "output_type": "stream",
     "text": [
      "3075.9657715\n",
      "584.433496585\n"
     ]
    }
   ],
   "source": [
    "print(sv.taxable_income)\n",
    "print(sv.total_tax)"
   ]
  },
  {
   "cell_type": "code",
   "execution_count": null,
   "metadata": {},
   "outputs": [],
   "source": []
  }
 ],
 "metadata": {
  "kernelspec": {
   "display_name": "Python 3",
   "language": "python",
   "name": "python3"
  },
  "language_info": {
   "codemirror_mode": {
    "name": "ipython",
    "version": 3
   },
   "file_extension": ".py",
   "mimetype": "text/x-python",
   "name": "python",
   "nbconvert_exporter": "python",
   "pygments_lexer": "ipython3",
   "version": "3.8.3"
  }
 },
 "nbformat": 4,
 "nbformat_minor": 4
}
